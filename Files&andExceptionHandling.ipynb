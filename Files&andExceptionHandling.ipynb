{
 "cells": [
  {
   "cell_type": "markdown",
   "metadata": {},
   "source": [
    "1. Discuss the scenarios where multithreading is preferable to multiprocessing and scenarios where multiprocessing is a better choice."
   ]
  },
  {
   "cell_type": "markdown",
   "metadata": {},
   "source": [
    "Answer: \n",
    "\n",
    "> Multithreading is preferable when:\n",
    "\n",
    "* The program involves I/O-bound tasks, such as reading files, network operations, or database access.\n",
    "\n",
    "* The tasks are lightweight and benefit from sharing memory between threads.\n",
    "\n",
    "* You want to reduce overhead and the operations can run concurrently within a single process.\n",
    "\n",
    "\n",
    "> Multiprocessing is better when:\n",
    "\n",
    "* The program involves CPU-bound tasks, such as complex computations or heavy data processing.\n",
    "\n",
    "* You want to fully utilize multiple CPU cores by running processes in parallel.\n",
    "\n",
    "* The tasks are independent and do not require much inter-process communication.\n"
   ]
  },
  {
   "cell_type": "markdown",
   "metadata": {},
   "source": [
    "2. Describe what a process pool is and how it helps in managing multiple processes efficiently."
   ]
  },
  {
   "cell_type": "markdown",
   "metadata": {},
   "source": [
    "Answer:\n",
    "\n",
    "A process pool is a collection of worker processes that can be reused to execute tasks. It allows parallel execution of tasks by distributing them across multiple processes. Process pools help in managing multiple processes efficiently by:\n",
    "\n",
    "* Reusing processes: Instead of creating a new process for every task, existing processes from the pool are reused.\n",
    "\n",
    "* Load balancing: The pool automatically assigns tasks to available processes, balancing the workload.\n",
    "\n",
    "* Reducing overhead: Pooling reduces the overhead of process creation and destruction.\n",
    "\n",
    "* Efficient management: It allows for better management of resources by limiting the number of concurrent processes."
   ]
  },
  {
   "cell_type": "markdown",
   "metadata": {},
   "source": [
    "3. Explain what multiprocessing is and why it is used in Python programs."
   ]
  },
  {
   "cell_type": "markdown",
   "metadata": {},
   "source": [
    "Answer:\n",
    "\n",
    "Multiprocessing in Python allows the execution of multiple processes simultaneously by using separate memory spaces for each process. \n",
    "\n",
    "It is used to:\n",
    "\n",
    "* Parallelize CPU-bound tasks: By running tasks in parallel across multiple CPU cores, it speeds up computation-heavy programs.\n",
    "\n",
    "* Bypass Global Interpreter Lock (GIL): Pythons GIL prevents multiple threads from executing Python bytecode simultaneously. Multiprocessing avoids this by running independent processes.\n",
    "\n",
    "* Improve performance: It can significantly improve the performance of programs that require a lot of CPU resources."
   ]
  },
  {
   "cell_type": "markdown",
   "metadata": {},
   "source": [
    "4. Write a Python program using multithreading where one thread adds numbers to a list, and another thread removes numbers from the list. Implement a mechanism to avoid race conditions using threading.Lock."
   ]
  },
  {
   "cell_type": "code",
   "execution_count": 1,
   "metadata": {},
   "outputs": [
    {
     "name": "stdout",
     "output_type": "stream",
     "text": [
      "Added: 0\n",
      "Removed: 0\n",
      "Added: 1\n",
      "Removed: 1\n",
      "Added: 2\n",
      "Removed: 2\n",
      "Added: 3\n",
      "Added: 4\n",
      "Final list: [3, 4]\n"
     ]
    }
   ],
   "source": [
    "import threading\n",
    "import time\n",
    "\n",
    "# list\n",
    "numbers = []\n",
    "\n",
    "lock = threading.Lock()\n",
    "\n",
    "def add_numbers():\n",
    "    for i in range(5):\n",
    "        with lock:\n",
    "            numbers.append(i)\n",
    "            print(f\"Added: {i}\")\n",
    "        time.sleep(1)\n",
    "\n",
    "def remove_numbers():\n",
    "    for i in range(5):\n",
    "        time.sleep(0.5)  \n",
    "        with lock:\n",
    "            if numbers:\n",
    "                removed = numbers.pop(0)\n",
    "                print(f\"Removed: {removed}\")\n",
    "\n",
    "add_thread = threading.Thread(target=add_numbers)\n",
    "remove_thread = threading.Thread(target=remove_numbers)\n",
    "\n",
    "add_thread.start()\n",
    "remove_thread.start()\n",
    "\n",
    "add_thread.join()\n",
    "remove_thread.join()\n",
    "\n",
    "print(\"Final list:\", numbers)\n"
   ]
  },
  {
   "cell_type": "markdown",
   "metadata": {},
   "source": [
    "5. Describe the methods and tools available in Python for safely sharing data between threads and processes."
   ]
  },
  {
   "cell_type": "markdown",
   "metadata": {},
   "source": [
    "Answer:\n",
    "\n",
    "> For threads:\n",
    "\n",
    "* threading.Lock: Ensures that only one thread can access a resource at a time.\n",
    "\n",
    "* threading.RLock: A reentrant lock that allows a thread to acquire the lock multiple times.\n",
    "\n",
    "* threading.Semaphore: Limits access to a resource by a set number of threads.\n",
    "\n",
    "* Queue.Queue: A thread-safe FIFO queue that can be used to share data between threads.\n",
    "\n",
    "\n",
    "> For processes:\n",
    "\n",
    "* multiprocessing.Queue: A thread-safe and process-safe FIFO queue for communication between processes.\n",
    "\n",
    "* multiprocessing.Pipe: A connection object that allows two-way communication between processes.\n",
    "\n",
    "* multiprocessing.Manager: Manages shared objects (e.g., lists, dicts) between processes.\n",
    "\n",
    "* multiprocessing.Value and multiprocessing.Array: Shared memory objects that can be accessed by multiple processes."
   ]
  },
  {
   "cell_type": "markdown",
   "metadata": {},
   "source": [
    "6. Discuss why it’s crucial to handle exceptions in concurrent programs and the techniques available for doing so."
   ]
  },
  {
   "cell_type": "markdown",
   "metadata": {},
   "source": [
    "Answer:\n",
    "\n",
    ">Handling exceptions in concurrent programs is crucial because:\n",
    "\n",
    "* Concurrency introduces complexity: Multiple threads or processes may fail in unpredictable ways, and unhandled exceptions can lead to data corruption or deadlocks.\n",
    "\n",
    "* Avoid crashing the whole program: Without proper exception handling, a single error in a thread or process can crash the entire program.\n",
    "\n",
    "\n",
    "\n",
    ">Techniques for handling exceptions in concurrent programs:\n",
    "\n",
    "* Try-except blocks: Wrapping code that runs in threads/processes with try-except to catch exceptions.\n",
    "\n",
    "* Thread/Process Join with Timeout: Setting a timeout for thread or process joins allows handling scenarios where they hang indefinitely.\n",
    "\n",
    "* Thread Pool Executor: In concurrent.futures.ThreadPoolExecutor, exceptions are propagated to the main thread when calling future.result()."
   ]
  },
  {
   "cell_type": "markdown",
   "metadata": {},
   "source": [
    "7. Create a program that uses a thread pool to calculate the factorial of numbers from 1 to 10 concurrently. Use concurrent.futures.ThreadPoolExecutor to manage the threads."
   ]
  },
  {
   "cell_type": "code",
   "execution_count": 2,
   "metadata": {},
   "outputs": [
    {
     "name": "stdout",
     "output_type": "stream",
     "text": [
      "Factorial of 1 is 1\n",
      "Factorial of 2 is 2\n",
      "Factorial of 3 is 6\n",
      "Factorial of 4 is 24\n",
      "Factorial of 5 is 120\n",
      "Factorial of 6 is 720\n",
      "Factorial of 7 is 5040\n",
      "Factorial of 8 is 40320\n",
      "Factorial of 9 is 362880\n",
      "Factorial of 10 is 3628800\n"
     ]
    }
   ],
   "source": [
    "import concurrent.futures\n",
    "import math\n",
    "\n",
    "def factorial(n):\n",
    "    return math.factorial(n)\n",
    "\n",
    "# tread pool to mange threads\n",
    "with concurrent.futures.ThreadPoolExecutor() as executor:\n",
    "    numbers = range(1, 11)\n",
    "    results = executor.map(factorial, numbers)\n",
    "\n",
    "for number, result in zip(numbers, results):\n",
    "    print(f\"Factorial of {number} is {result}\")\n"
   ]
  },
  {
   "cell_type": "markdown",
   "metadata": {},
   "source": [
    "8. Create a Python program that uses multiprocessing.Pool to compute the square of numbers from 1 to 10 in parallel. Measure the time taken to perform this computation using a pool of different sizes (e.g., 2, 4, 8 processes).​"
   ]
  },
  {
   "cell_type": "code",
   "execution_count": 1,
   "metadata": {},
   "outputs": [],
   "source": [
    "import time\n",
    "from multiprocessing import Pool\n",
    "\n",
    "def compute_square(n):\n",
    "    return n * n\n",
    "\n",
    "def measure_pool_time(pool_size):\n",
    "    numbers = list(range(1, 11))\n",
    "    \n",
    "    start_time = time.time()\n",
    "    \n",
    "    with Pool(pool_size) as pool:\n",
    "        results = pool.map(compute_square, numbers)\n",
    "    \n",
    "    end_time = time.time()\n",
    "    \n",
    "    return results, end_time - start_time\n",
    "\n",
    "if __name__ == \"__main__\":\n",
    "    pool_sizes = [2, 4, 8]\n",
    "    \n",
    "    for size in pool_sizes:\n",
    "        results, time_taken = measure_pool_time(size)\n",
    "        print(f\"Pool size: {size}\")\n",
    "        print(f\"Results: {results}\")\n",
    "        print(f\"Time taken: {time_taken:.6f} seconds\\n\")\n"
   ]
  },
  {
   "cell_type": "code",
   "execution_count": null,
   "metadata": {},
   "outputs": [],
   "source": []
  }
 ],
 "metadata": {
  "kernelspec": {
   "display_name": "Python 3",
   "language": "python",
   "name": "python3"
  },
  "language_info": {
   "codemirror_mode": {
    "name": "ipython",
    "version": 3
   },
   "file_extension": ".py",
   "mimetype": "text/x-python",
   "name": "python",
   "nbconvert_exporter": "python",
   "pygments_lexer": "ipython3",
   "version": "3.12.2"
  }
 },
 "nbformat": 4,
 "nbformat_minor": 2
}
